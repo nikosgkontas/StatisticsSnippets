{
 "cells": [
  {
   "cell_type": "markdown",
   "metadata": {},
   "source": [
    "# Descriptive Statistics Snippets"
   ]
  },
  {
   "cell_type": "markdown",
   "metadata": {},
   "source": [
    "### In this notebook we learn and practice simple statistics step by step.\n",
    "<br>\n",
    "First we are going to create an array of data. For that reason we can either use  the numpy module of Python."
   ]
  },
  {
   "cell_type": "code",
   "execution_count": 213,
   "metadata": {},
   "outputs": [],
   "source": [
    "# import modules\n",
    "import numpy as np\n",
    "from scipy.stats import moment\n",
    "from scipy.stats import skew\n",
    "import scipy.stats as stats\n",
    "import matplotlib.pyplot as plt"
   ]
  },
  {
   "cell_type": "markdown",
   "metadata": {},
   "source": [
    "### We randomly create some data."
   ]
  },
  {
   "cell_type": "code",
   "execution_count": 214,
   "metadata": {},
   "outputs": [],
   "source": [
    "# create 100 random entries from uniform [0,1] using numpy module\n",
    "\n",
    "data1 = np.random.uniform(0, 1, 100)\n",
    "# we don't use data1 in this example"
   ]
  },
  {
   "cell_type": "code",
   "execution_count": 215,
   "metadata": {},
   "outputs": [],
   "source": [
    "# create 100 random entries from normal(mu=0, sigma=1) using numpy module\n",
    "\n",
    "data = np.random.normal(0, 1, 100)"
   ]
  },
  {
   "cell_type": "markdown",
   "metadata": {},
   "source": [
    "### Now we plot the data in a simple way just to view them.\n",
    "<br>\n",
    "We also draw lines for the mean and deviations."
   ]
  },
  {
   "cell_type": "code",
   "execution_count": 216,
   "metadata": {},
   "outputs": [
    {
     "data": {
      "image/png": "[encoded data removed]",
      "text/plain": [
       "<Figure size 432x288 with 1 Axes>"
      ]
     },
     "metadata": {
      "needs_background": "light"
     },
     "output_type": "display_data"
    }
   ],
   "source": [
    "# plot the data\n",
    "plt.plot(data, \".\", color=\"red\")\n",
    "plt.plot([0,100],[0,0], color=\"blue\")\n",
    "plt.plot([0,100],[1,1], color=\"black\", linewidth=\"1\")\n",
    "plt.plot([0,100],[-1,-1], color=\"black\", linewidth=\"1\")\n",
    "plt.plot([0,100],[2,2], color=\"black\", linewidth=\"1\")\n",
    "plt.plot([0,100],[-2,-2], color=\"black\", linewidth=\"1\")\n",
    "plt.plot([0,100],[3,3], color=\"black\", linewidth=\"1\")\n",
    "plt.plot([0,100],[-3,-3], color=\"black\", linewidth=\"1\")\n",
    "plt.show()"
   ]
  },
  {
   "cell_type": "markdown",
   "metadata": {},
   "source": [
    "### A nice and easy way to look how the data are distributed is the boxplot.\n",
    "<br>\n",
    "This gives us a quick idea about the mean, the variance, the shape of the distribution, and any extreme observations of the data."
   ]
  },
  {
   "cell_type": "code",
   "execution_count": 217,
   "metadata": {},
   "outputs": [
    {
     "data": {
      "text/plain": [
       "{'whiskers': [<matplotlib.lines.Line2D at 0x6ffff3063210>,\n",
       "  <matplotlib.lines.Line2D at 0x6ffff3063650>],\n",
       " 'caps': [<matplotlib.lines.Line2D at 0x6ffff3063a90>,\n",
       "  <matplotlib.lines.Line2D at 0x6ffff3063ed0>],\n",
       " 'boxes': [<matplotlib.lines.Line2D at 0x6ffff3ca7e10>],\n",
       " 'medians': [<matplotlib.lines.Line2D at 0x6ffff3064350>],\n",
       " 'fliers': [<matplotlib.lines.Line2D at 0x6ffff3064750>],\n",
       " 'means': []}"
      ]
     },
     "execution_count": 217,
     "metadata": {},
     "output_type": "execute_result"
    },
    {
     "data": {
      "image/png": "[encoded data removed]",
      "text/plain": [
       "<Figure size 432x288 with 1 Axes>"
      ]
     },
     "metadata": {
      "needs_background": "light"
     },
     "output_type": "display_data"
    }
   ],
   "source": [
    "# we plot a boxplot\n",
    "plt.boxplot(data)"
   ]
  },
  {
   "cell_type": "markdown",
   "metadata": {},
   "source": [
    "### Now, let's see the minimum and the maximum observations.\n",
    "<br>\n",
    "We define a function to calculate the min, max and the range of data."
   ]
  },
  {
   "cell_type": "code",
   "execution_count": 218,
   "metadata": {},
   "outputs": [],
   "source": [
    "# compute the range i.e calculate the min and max and find their difference\n",
    "\n",
    "def rng(data):\n",
    "    r = max(data) - min(data)\n",
    "    print(f\"Range: {r:.4f}\")\n",
    "    print(f\"Min: {min(data):.4f}\")\n",
    "    print(f\"Max: {max(data):.4f}\")\n",
    "    return r, min(data), max(data)\n"
   ]
  },
  {
   "cell_type": "code",
   "execution_count": 219,
   "metadata": {},
   "outputs": [
    {
     "name": "stdout",
     "output_type": "stream",
     "text": [
      "Range: 6.0866\n",
      "Min: -3.3481\n",
      "Max: 2.7385\n"
     ]
    },
    {
     "data": {
      "text/plain": [
       "(6.08659018681146, -3.348076547564681, 2.7385136392467784)"
      ]
     },
     "execution_count": 219,
     "metadata": {},
     "output_type": "execute_result"
    }
   ],
   "source": [
    "rng(data)"
   ]
  },
  {
   "cell_type": "markdown",
   "metadata": {},
   "source": [
    "### Calculate the measures of central tedency.\n",
    "<br>\n",
    "i.e. the mean, the mode, and the median."
   ]
  },
  {
   "cell_type": "code",
   "execution_count": 222,
   "metadata": {},
   "outputs": [],
   "source": [
    "# mean, mode, median\n",
    "\n",
    "def mean_mode_median(data):\n",
    "    try:\n",
    "        mode_val = sts.mode(data)\n",
    "    except sts.StatisticsError:\n",
    "        mode_val = None\n",
    "\n",
    "        median_val = sts.median(data)\n",
    "        mean_val = np.mean(data)\n",
    "    print(f\"Mean: {mean_val:}\")\n",
    "    print(f\"Mode: {mode_val:}\")\n",
    "    print(f\"Median: {median_val:}\")\n",
    "    return mean_val, mode_val, median_val\n"
   ]
  },
  {
   "cell_type": "code",
   "execution_count": 223,
   "metadata": {},
   "outputs": [
    {
     "name": "stdout",
     "output_type": "stream",
     "text": [
      "Mean: 0.009599679645903456\n",
      "Mode: None\n",
      "Median: 0.0760417759028448\n"
     ]
    },
    {
     "data": {
      "text/plain": [
       "(0.009599679645903456, None, 0.0760417759028448)"
      ]
     },
     "execution_count": 223,
     "metadata": {},
     "output_type": "execute_result"
    }
   ],
   "source": [
    "mean_mode_median(data)"
   ]
  },
  {
   "cell_type": "markdown",
   "metadata": {},
   "source": [
    "### Then we calculate some very useful values of our data, the moments.\n",
    "<br>\n",
    "The first moment is mostly known as the mean, the second moment is the variance,\n",
    "<br>\n",
    "the third and fourth moments are known as skewness ans kurtosis respectively.\n",
    "<br>\n",
    "These numbers describe the distribution the our data and their shape.\n",
    "<br>\n",
    "<br>\n",
    "Below we can see more than one ways to calculate the moments."
   ]
  },
  {
   "cell_type": "code",
   "execution_count": 224,
   "metadata": {},
   "outputs": [
    {
     "name": "stdout",
     "output_type": "stream",
     "text": [
      "Mean: 0.0096\n",
      "Variance: 1.1059\n",
      "Skewness: -0.2307\n",
      "Kurtosis: 4.0678\n"
     ]
    }
   ],
   "source": [
    "# calculate the moments\n",
    "\n",
    "\n",
    "# fisrt moment (mean)\n",
    "mean = np.mean(data)\n",
    "#mean = moment(data, moment=1)\n",
    "#mean = sum(data)/len(data)\n",
    "\n",
    "#second moment (variance)\n",
    "variance = np.var(data)\n",
    "#variance = moment(data, moment=2)\n",
    "#variance = sum((x - mean) ** 2 for x in data) / len(data)\n",
    "\n",
    "#third moment (skewness)\n",
    "skewness = skew(data)\n",
    "#skewness = moment(data, moment=3)\n",
    "#skewness = np.mean((data - mean) ** 3) / (variance ** 1.5)\n",
    "\n",
    "# fourth moment (kurtosis)\n",
    "kurtosis = moment(data, moment=4)\n",
    "#kurtosis = np.mean((data - mean) ** 4) / (variance ** 2)\n",
    "\n",
    "\n",
    "\n",
    "# print the results with 4 decimal digits\n",
    "print(f\"Mean: {mean:.4f}\")\n",
    "print(f\"Variance: {variance:.4f}\")\n",
    "print(f\"Skewness: {skewness:.4f}\")\n",
    "print(f\"Kurtosis: {kurtosis:.4f}\")\n"
   ]
  },
  {
   "cell_type": "markdown",
   "metadata": {},
   "source": [
    "### Finally, let's see how our data are compared to the standard normal disrtibution."
   ]
  },
  {
   "cell_type": "code",
   "execution_count": 225,
   "metadata": {},
   "outputs": [
    {
     "data": {
      "image/png": "[encoded data removed]",
      "text/plain": [
       "<Figure size 432x288 with 1 Axes>"
      ]
     },
     "metadata": {
      "needs_background": "light"
     },
     "output_type": "display_data"
    }
   ],
   "source": [
    "plt.hist(data, bins=20, color=\"black\", edgecolor=\"black\", density=True)\n",
    "plt.plot([0,0],[0,0.3989], color=\"blue\")\n",
    "\n",
    "mu = 0\n",
    "variance = 1\n",
    "sigma = np.sqrt(variance)\n",
    "x = np.linspace(mu - 3*sigma, mu + 3*sigma, 100)\n",
    "plt.plot(x, stats.norm.pdf(x, mu, sigma), color=\"red\")\n",
    "\n",
    "plt.show()"
   ]
  },
  {
   "cell_type": "code",
   "execution_count": null,
   "metadata": {},
   "outputs": [],
   "source": []
  }
 ],
 "metadata": {
  "kernelspec": {
   "display_name": "Python 3",
   "language": "python",
   "name": "python3"
  },
  "language_info": {
   "codemirror_mode": {
    "name": "ipython",
    "version": 3
   },
   "file_extension": ".py",
   "mimetype": "text/x-python",
   "name": "python",
   "nbconvert_exporter": "python",
   "pygments_lexer": "ipython3",
   "version": "3.7.10"
  }
 },
 "nbformat": 4,
 "nbformat_minor": 4
}
